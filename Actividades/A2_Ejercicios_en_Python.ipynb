{
  "nbformat": 4,
  "nbformat_minor": 0,
  "metadata": {
    "colab": {
      "provenance": []
    },
    "kernelspec": {
      "name": "python3",
      "display_name": "Python 3"
    },
    "language_info": {
      "name": "python"
    }
  },
  "cells": [
    {
      "cell_type": "markdown",
      "source": [
        "Actividad Fundamental 2 Ejercicios en Python\n",
        "Jonathan Raziel Treviño Cruz 1949713\n",
        "Hora clase: V1 Grupo: 007"
      ],
      "metadata": {
        "id": "Th5T6r7fYZG9"
      }
    },
    {
      "cell_type": "code",
      "source": [
        "nombre = input(\"¿Cuál es tu nombre? \")\n",
        "if nombre == \"Ana\" or nombre == \"Juan\" or nombre == \"Pedro\":\n",
        "    print(\"Hola\")\n",
        "else:\n",
        "    print(\"Hola\", nombre)\n",
        "\n",
        "\n",
        "\n",
        "\n",
        "\n"
      ],
      "metadata": {
        "colab": {
          "base_uri": "https://localhost:8080/"
        },
        "id": "lCiVEpwBPnD7",
        "outputId": "8cd42644-ca14-4dec-b2f2-9595cd44d123"
      },
      "execution_count": null,
      "outputs": [
        {
          "output_type": "stream",
          "name": "stdout",
          "text": [
            "¿Cuál es tu nombre? Jonathan\n",
            "Hola Jonathan\n"
          ]
        }
      ]
    },
    {
      "cell_type": "code",
      "source": [
        "mi_lista_invertida = invertir_lista()\n",
        "print(mi_lista_invertida)\n"
      ],
      "metadata": {
        "colab": {
          "base_uri": "https://localhost:8080/"
        },
        "id": "dohwm-2ZVCG7",
        "outputId": "43b04e0a-8945-44bd-fac6-872d961f8a7e"
      },
      "execution_count": null,
      "outputs": [
        {
          "output_type": "stream",
          "name": "stdout",
          "text": [
            "Ingrese la cantidad de elementos que tendrá la lista: 9\n",
            "Ingrese el elemento 1: 1\n",
            "Ingrese el elemento 2: 2\n",
            "Ingrese el elemento 3: 3\n",
            "Ingrese el elemento 4: 4\n",
            "Ingrese el elemento 5: 5\n",
            "Ingrese el elemento 6: 6\n",
            "Ingrese el elemento 7: 7\n",
            "Ingrese el elemento 8: 8\n",
            "Ingrese el elemento 9: 9\n",
            "['9', '8', '7', '6', '5', '4', '3', '2', '1']\n"
          ]
        }
      ]
    },
    {
      "cell_type": "code",
      "source": [
        "# Solicita la cantidad de números de Fibonacci a generar\n",
        "n = int(input(\"Introduzca la cantidad de números de Fibonacci que desea generar: \"))\n",
        "\n",
        "# Verifica si el usuario ingresó un valor válido\n",
        "if n <= 0:\n",
        "    print(\"La cantidad de números de Fibonacci a generar debe ser mayor que cero.\")\n",
        "else:\n",
        "    # Genera los números de Fibonacci\n",
        "    fib = [0, 1]\n",
        "    for i in range(2, n):\n",
        "        fib.append(fib[i-1] + fib[i-2])\n",
        "\n",
        "    # Muestra los números de Fibonacci generados\n",
        "    print(\"Los\", n, \"primeros números de Fibonacci son:\")\n",
        "    for num in fib:\n",
        "        print(num)\n"
      ],
      "metadata": {
        "colab": {
          "base_uri": "https://localhost:8080/"
        },
        "id": "Wxxwt5aVWgZn",
        "outputId": "e6c1d08d-4b29-4e96-9bd7-7210765576c6"
      },
      "execution_count": null,
      "outputs": [
        {
          "output_type": "stream",
          "name": "stdout",
          "text": [
            "Introduzca la cantidad de números de Fibonacci que desea generar: 5\n",
            "Los 5 primeros números de Fibonacci son:\n",
            "0\n",
            "1\n",
            "1\n",
            "2\n",
            "3\n"
          ]
        }
      ]
    }
  ]
}